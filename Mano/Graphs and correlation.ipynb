{
 "cells": [
  {
   "cell_type": "code",
   "execution_count": null,
   "id": "4dc393d2",
   "metadata": {},
   "outputs": [],
   "source": [
    "# %matplotlib notebook"
   ]
  },
  {
   "cell_type": "code",
   "execution_count": null,
   "id": "a1ab49cf",
   "metadata": {},
   "outputs": [],
   "source": [
    "# Dependencies\n",
    "import pandas as pd\n",
    "import calendar\n",
    "import matplotlib.pyplot as plt\n",
    "\n",
    "import numpy as np\n",
    "from sklearn import datasets\n",
    "\n",
    "import scipy.stats as st\n",
    "from scipy.stats import linregress"
   ]
  },
  {
   "cell_type": "code",
   "execution_count": null,
   "id": "3831fb5c",
   "metadata": {},
   "outputs": [],
   "source": [
    "# Name of the CSV file\n",
    "file = '../Mano/updated_Final_Covid_Data.csv'"
   ]
  },
  {
   "cell_type": "code",
   "execution_count": null,
   "id": "eeaf7ca3",
   "metadata": {},
   "outputs": [],
   "source": [
    "df = pd.read_csv(file)\n",
    "df"
   ]
  },
  {
   "cell_type": "code",
   "execution_count": null,
   "id": "40e73f18",
   "metadata": {},
   "outputs": [],
   "source": [
    "df=df.drop(columns='Unnamed: 0')\n",
    "df"
   ]
  },
  {
   "cell_type": "code",
   "execution_count": null,
   "id": "c154018c",
   "metadata": {},
   "outputs": [],
   "source": [
    "df.columns = df.columns.str.replace(' ', '_')\n",
    "df"
   ]
  },
  {
   "cell_type": "code",
   "execution_count": null,
   "id": "038efb15",
   "metadata": {},
   "outputs": [],
   "source": [
    "df.describe()"
   ]
  },
  {
   "cell_type": "code",
   "execution_count": null,
   "id": "550a2ece",
   "metadata": {},
   "outputs": [],
   "source": []
  },
  {
   "cell_type": "code",
   "execution_count": null,
   "id": "d2d0a33d",
   "metadata": {},
   "outputs": [],
   "source": [
    "#creating bar chart for states vs monthly cases\n",
    "df1=df.groupby(\"State\")\n",
    "df1\n",
    "#y_axis=df['Monthly Cases']\n",
    "#df.plot(kind='bar', x=x_axis, y=y_axis, x_label='States', y_label='Monthly total cases')\n",
    "#plot.show()"
   ]
  },
  {
   "cell_type": "code",
   "execution_count": null,
   "id": "e1c70164",
   "metadata": {},
   "outputs": [],
   "source": [
    "case_count=df1[\"Monthly_Cases\"].sum()\n",
    "case_count"
   ]
  },
  {
   "cell_type": "code",
   "execution_count": null,
   "id": "f308a998",
   "metadata": {},
   "outputs": [],
   "source": [
    "state_cases=case_count.plot(kind='bar')\n",
    "state_cases.set_xlabel(\"States\")\n",
    "state_cases.set_ylabel(\"Number of cases\")\n",
    "\n",
    "\n",
    "plt.show()\n"
   ]
  },
  {
   "cell_type": "code",
   "execution_count": null,
   "id": "04e2877b",
   "metadata": {},
   "outputs": [],
   "source": [
    "#data = df[['State','Monthly_Cases']].nlargest(25,'Monthly_Cases')\n",
    "#fig = plt.bar(data, x = 'State',y = 'Monthly_Cases',title=\"Number of total cases in States\",)\n",
    "#fig.show()\n",
    "\n"
   ]
  },
  {
   "cell_type": "code",
   "execution_count": null,
   "id": "5a1b2253",
   "metadata": {},
   "outputs": [],
   "source": [
    "month_state=df.groupby(['State']).agg({\"Monthly_Cases\": \"sum\"})\n",
    "month_state"
   ]
  },
  {
   "cell_type": "code",
   "execution_count": null,
   "id": "6c73a0a1",
   "metadata": {},
   "outputs": [],
   "source": [
    "high_cases = month_state[month_state.Monthly_Cases >= 1000000]\n",
    "high_cases\n",
    "state_high=high_cases.reset_index()\n",
    "state_high"
   ]
  },
  {
   "cell_type": "code",
   "execution_count": null,
   "id": "9de328a6",
   "metadata": {},
   "outputs": [],
   "source": []
  },
  {
   "cell_type": "code",
   "execution_count": null,
   "id": "5b865b8a",
   "metadata": {},
   "outputs": [],
   "source": [
    "plt.figure(figsize=(8, 9))\n",
    "plt.bar(state_high['State'], state_high['Monthly_Cases'], color='red')\n",
    "plt.title('States With Highest COVID-19 Cases in 2021')\n",
    "plt.xlabel('Top 10 States')\n",
    "plt.ylabel('Total number of Cases')"
   ]
  },
  {
   "cell_type": "code",
   "execution_count": null,
   "id": "3f21d031",
   "metadata": {
    "scrolled": true
   },
   "outputs": [],
   "source": [
    "high_cases = month_state[month_state.Monthly_Cases >= 1000000]\n",
    "high_cases\n",
    "state_high=high_cases.reset_index()\n",
    "state_high\n",
    "death_count=df1[\"Monthly_Cases\"].sum()\n",
    "death_count"
   ]
  },
  {
   "cell_type": "code",
   "execution_count": null,
   "id": "8f351732",
   "metadata": {
    "scrolled": true
   },
   "outputs": [],
   "source": [
    "state_deaths=death_count.plot(kind='bar')\n",
    "#state_deaths.CData(5) = [0 0.8 0.8]\n",
    "state_deaths.set_xlabel(\"States\")\n",
    "state_deaths.set_ylabel(\"Number of deaths\")\n",
    "\n",
    "plt.show()\n"
   ]
  },
  {
   "cell_type": "code",
   "execution_count": null,
   "id": "e25bbb45",
   "metadata": {
    "scrolled": true
   },
   "outputs": [],
   "source": [
    "state_deaths=df.groupby(['State']).agg({\"Monthly_Deaths\": \"sum\"})\n",
    "state_deaths.head()"
   ]
  },
  {
   "cell_type": "code",
   "execution_count": null,
   "id": "fa4d789e",
   "metadata": {},
   "outputs": [],
   "source": [
    "high_deaths = state_deaths[state_deaths.Monthly_Deaths >= 10000]\n",
    "high_deaths\n",
    "\n",
    "state_deaths=high_deaths.reset_index()\n",
    "state_deaths"
   ]
  },
  {
   "cell_type": "code",
   "execution_count": null,
   "id": "41244d5b",
   "metadata": {},
   "outputs": [],
   "source": [
    "plt.figure(figsize=(5, 6))\n",
    "plt.bar(state_deaths['State'], state_deaths['Monthly_Deaths'], color='g')\n",
    "plt.title('States With Highest COVID-19 Deaths')\n",
    "plt.xlabel('Top 15 States')\n",
    "plt.ylabel('Total number of Deaths')"
   ]
  },
  {
   "cell_type": "code",
   "execution_count": null,
   "id": "85455c83",
   "metadata": {},
   "outputs": [],
   "source": [
    "positive_count=df1[\"Monthly_Positive\"].sum()\n",
    "positive_count"
   ]
  },
  {
   "cell_type": "code",
   "execution_count": null,
   "id": "532fc71d",
   "metadata": {},
   "outputs": [],
   "source": [
    "colors = list('rgbkymc')\n",
    "positive_test=positive_count.plot(kind='bar', color= colors)\n",
    "positive_test.set_xlabel(\"States\")\n",
    "positive_test.set_ylabel(\"Number of positive tests\")\n",
    "\n",
    "plt.show()"
   ]
  },
  {
   "cell_type": "code",
   "execution_count": null,
   "id": "b7d11cae",
   "metadata": {},
   "outputs": [],
   "source": [
    "negative_count=df1[\"Monthly_Negatives\"].sum()\n",
    "negative_count"
   ]
  },
  {
   "cell_type": "code",
   "execution_count": null,
   "id": "3f0cf5c2",
   "metadata": {},
   "outputs": [],
   "source": [
    "colors = list('rgbkymc')\n",
    "negative_test=negative_count.plot(kind='bar', color= colors)\n",
    "negative_test.set_xlabel(\"States\")\n",
    "negative_test.set_ylabel(\"Number of negative tests\")\n",
    "\n",
    "plt.show()"
   ]
  },
  {
   "cell_type": "code",
   "execution_count": null,
   "id": "f47c04ba",
   "metadata": {},
   "outputs": [],
   "source": [
    "correlation1=pd.DataFrame({'Total_cases': case_count,\n",
    "                          'Positive_test': positive_count,\n",
    "                          'Negative_test': negative_count})\n",
    "correlation1"
   ]
  },
  {
   "cell_type": "code",
   "execution_count": null,
   "id": "1548f2a4",
   "metadata": {},
   "outputs": [],
   "source": [
    "#correlation between total case and positive tests\n",
    "total_cases = case_count\n",
    "positive_test = positive_count\n",
    "correlation = st.pearsonr(total_cases, positive_count)\n",
    "print(f\"The correlation between both factors is {round(correlation[0],2)}\")"
   ]
  },
  {
   "cell_type": "code",
   "execution_count": null,
   "id": "34684073",
   "metadata": {},
   "outputs": [],
   "source": [
    "#Compare the calcualted Pearson's r to the plots\n",
    "x_values=total_cases\n",
    "y_values=positive_count\n",
    "(slope, intercept, rvalue, pvalue, stderr) = linregress(x_values, y_values)\n",
    "regress_values = x_values * slope + intercept\n",
    "line_eq = \"y = \" + str(round(slope,2)) + \"x + \" + str(round(intercept,2))\n",
    "plt.scatter(x_values,y_values)\n",
    "plt.plot(x_values,regress_values,\"r-\")\n",
    "plt.annotate(line_eq,(0,.5),fontsize=10,color=\"red\")\n",
    "\n",
    "plt.xlabel('Total cases')\n",
    "plt.ylabel('Positive test')\n",
    "print(f\"The correlation between both factors is {round(correlation[0],2)}\")\n",
    "plt.show()"
   ]
  },
  {
   "cell_type": "code",
   "execution_count": null,
   "id": "a05a01e8",
   "metadata": {},
   "outputs": [],
   "source": [
    "#correlation between total case and negative tests\n",
    "total_cases = case_count\n",
    "negative_test = negative_count\n",
    "correlation = st.pearsonr(total_cases, negative_count)\n",
    "print(f\"The correlation between both factors is {round(correlation[0],2)}\")"
   ]
  },
  {
   "cell_type": "code",
   "execution_count": null,
   "id": "9a4fe8a9",
   "metadata": {},
   "outputs": [],
   "source": [
    "#Compare the calcualted Pearson's r to the plots\n",
    "x_values=total_cases\n",
    "y_values=negative_count\n",
    "(slope, intercept, rvalue, pvalue, stderr) = linregress(x_values, y_values)\n",
    "regress_values = x_values * slope + intercept\n",
    "line_eq = \"y = \" + str(round(slope,2)) + \"x + \" + str(round(intercept,2))\n",
    "plt.scatter(x_values,y_values)\n",
    "plt.plot(x_values,regress_values,\"r-\")\n",
    "plt.annotate(line_eq,(7,0.5),fontsize=10,color=\"red\")\n",
    "\n",
    "plt.xlabel('Total cases')\n",
    "plt.ylabel('Negative test')\n",
    "print(f\"The correlation between both factors is {round(correlation[0],2)}\")\n",
    "plt.show()"
   ]
  },
  {
   "cell_type": "code",
   "execution_count": null,
   "id": "834065ad",
   "metadata": {},
   "outputs": [],
   "source": [
    "#calculating mortality rate\n",
    "#number of deaths by population\n",
    "#x number of deaths per 100,000 population\n",
    "\n",
    "mortality_rate =df['Monthly_Deaths']/df['Population']* 100000\n",
    "mortality_rate\n"
   ]
  },
  {
   "cell_type": "code",
   "execution_count": null,
   "id": "fa018b2a",
   "metadata": {},
   "outputs": [],
   "source": [
    "#splitting year and month column based on delimiter\n",
    "month=df['Year-Month'].str.split('-', expand=True)\n",
    "month.columns=['Year', 'Month']\n",
    "month_num=month['Month']\n",
    "month_num"
   ]
  },
  {
   "cell_type": "code",
   "execution_count": null,
   "id": "c2aaddca",
   "metadata": {},
   "outputs": [],
   "source": [
    "month_df=pd.DataFrame({'Month':month_num})\n",
    "month_df"
   ]
  },
  {
   "cell_type": "code",
   "execution_count": null,
   "id": "653c62ef",
   "metadata": {},
   "outputs": [],
   "source": [
    "#Getting month names based on the month numbers\n",
    "\n",
    "#df['Month'] = df['Month'].apply(lambda x: calendar.month_abbr[x])\n",
    "month_df['Month'] = pd.to_datetime(month_df['Month'], format='%m').dt.month_name().str.slice(stop=3)\n",
    "\n",
    "month_df"
   ]
  },
  {
   "cell_type": "code",
   "execution_count": null,
   "id": "efa24272",
   "metadata": {},
   "outputs": [],
   "source": [
    "monthly_total=df['Monthly_Cases']\n",
    "monthly_total\n",
    "month_name=month_df['Month']\n",
    "month_name\n",
    "state_name=df['State']\n",
    "state_name"
   ]
  },
  {
   "cell_type": "code",
   "execution_count": null,
   "id": "f8efc65a",
   "metadata": {},
   "outputs": [],
   "source": [
    "compare_df=pd.DataFrame({'State': state_name,\n",
    "                        'Month': month_name,\n",
    "                        'Monthly_cases': monthly_total,\n",
    "                        'Mortality_rate': mortality_rate})\n",
    "compare_df"
   ]
  },
  {
   "cell_type": "code",
   "execution_count": null,
   "id": "cd61981c",
   "metadata": {},
   "outputs": [],
   "source": [
    "compare_df_5 = compare_df.head(60)"
   ]
  },
  {
   "cell_type": "code",
   "execution_count": null,
   "id": "2aebc76f",
   "metadata": {},
   "outputs": [],
   "source": [
    "#month_total_df=compare_df.groupby('Month').agg({\"Monthly_cases\": \"sum\"})\n",
    "#ordered= ['Jan','Feb', 'Mar', 'Apr','May', 'Jun', 'Jul', 'Aug', 'Sep','Oct', 'Nov']\n",
    "#month_order=month_total_df.reindex(ordered)\n",
    "#month_order"
   ]
  },
  {
   "cell_type": "code",
   "execution_count": null,
   "id": "ce2ca082",
   "metadata": {},
   "outputs": [],
   "source": [
    "#ordered= ['Jan','Feb', 'Mar', 'Apr','May', 'Jun', 'Jul', 'Aug', 'Sep','Oct', 'Nov', 'Dec']\n",
    "#month_order=compare_df.reindex(ordered)\n",
    "#month_order"
   ]
  },
  {
   "cell_type": "code",
   "execution_count": null,
   "id": "7ff3900f",
   "metadata": {},
   "outputs": [],
   "source": [
    "groups=compare_df.groupby(\"Month\").agg({'Monthly_cases': 'sum','Mortality_rate': 'sum'})\n",
    "groups.head()"
   ]
  },
  {
   "cell_type": "code",
   "execution_count": null,
   "id": "567f7977",
   "metadata": {},
   "outputs": [],
   "source": [
    "#groups_index=groups.reset_index()\n",
    "#groups_index"
   ]
  },
  {
   "cell_type": "code",
   "execution_count": null,
   "id": "6319817d",
   "metadata": {},
   "outputs": [],
   "source": [
    "month=compare_df['Month']\n",
    "case_count=compare_df['Monthly_cases']\n",
    "death_count=compare_df['Mortality_rate']\n",
    "#monthly_cases, = plt.scatter(month, case_count, color=\"red\", label=\"Monthly cases\")\n",
    "mortality_rate, = plt.scatter(month, death_count, color=\"blue\", label=\"Mortality rate\")\n",
    "plt.title(\"Mortality rate in USA-2021\")\n",
    "plt.xlabel(\"Cases\")\n",
    "plt.ylabel(\"Mortality rate\")\n",
    "\n",
    "plt.legend(handles=[case_count, death_count], loc=\"best\")\n",
    "\n",
    "plt.grid()\n",
    "plt.show()"
   ]
  },
  {
   "cell_type": "code",
   "execution_count": null,
   "id": "a279eff6",
   "metadata": {},
   "outputs": [],
   "source": [
    "compare_df_5"
   ]
  },
  {
   "cell_type": "code",
   "execution_count": null,
   "id": "45541a02",
   "metadata": {},
   "outputs": [],
   "source": [
    "compare_df_5.set_index(\"Month\", inplace=True)"
   ]
  },
  {
   "cell_type": "code",
   "execution_count": null,
   "id": "6b9f792e",
   "metadata": {},
   "outputs": [],
   "source": [
    "compare_df_5.groupby(\"State\")[\"Mortality_rate\"].plot(legend=True,grid=True)"
   ]
  },
  {
   "cell_type": "code",
   "execution_count": null,
   "id": "6e594e5a",
   "metadata": {},
   "outputs": [],
   "source": []
  }
 ],
 "metadata": {
  "kernelspec": {
   "display_name": "Python 3 (ipykernel)",
   "language": "python",
   "name": "python3"
  },
  "language_info": {
   "codemirror_mode": {
    "name": "ipython",
    "version": 3
   },
   "file_extension": ".py",
   "mimetype": "text/x-python",
   "name": "python",
   "nbconvert_exporter": "python",
   "pygments_lexer": "ipython3",
   "version": "3.9.7"
  }
 },
 "nbformat": 4,
 "nbformat_minor": 5
}
