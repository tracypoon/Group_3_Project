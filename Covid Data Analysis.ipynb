{
 "cells": [
  {
   "cell_type": "code",
   "execution_count": 5,
   "id": "f0186307",
   "metadata": {},
   "outputs": [],
   "source": [
    "# Dependencies\n",
    "import requests\n",
    "import json\n",
    "import pandas as pd\n",
    "import numpy as np\n",
    "import matplotlib.pyplot as plt\n",
    "# CovidActNow API Key\n",
    "from config import api_key\n",
    "# Census API Key\n",
    "from config import census_key"
   ]
  },
  {
   "cell_type": "code",
   "execution_count": 6,
   "id": "a04d94bd",
   "metadata": {},
   "outputs": [],
   "source": [
    "# Create State population dataframe\n",
    "\n",
    "# Specify the Census URL\n",
    "census_url = \"https://api.census.gov/data/2021/pep/population?\"\n",
    "# Build Census Pops by state query URL\n",
    "census_query_url = f\"{census_url}get=DENSITY_2021,POP_2021,NAME,STATE&for=state:*&key={census_key}\""
   ]
  },
  {
   "cell_type": "code",
   "execution_count": 7,
   "id": "c5cd0815",
   "metadata": {},
   "outputs": [
    {
     "data": {
      "text/plain": [
       "'https://api.census.gov/data/2021/pep/population?get=DENSITY_2021,POP_2021,NAME,STATE&for=state:*&key=1323acd93c160d42f2cd9cd97339cf3439681469'"
      ]
     },
     "execution_count": 7,
     "metadata": {},
     "output_type": "execute_result"
    }
   ],
   "source": [
    "census_query_url"
   ]
  },
  {
   "cell_type": "code",
   "execution_count": 8,
   "id": "a87d33f4",
   "metadata": {},
   "outputs": [
    {
     "ename": "JSONDecodeError",
     "evalue": "Expecting value: line 2 column 1 (char 1)",
     "output_type": "error",
     "traceback": [
      "\u001b[1;31m---------------------------------------------------------------------------\u001b[0m",
      "\u001b[1;31mJSONDecodeError\u001b[0m                           Traceback (most recent call last)",
      "\u001b[1;32m<ipython-input-8-b074d9f0eb7f>\u001b[0m in \u001b[0;36m<module>\u001b[1;34m\u001b[0m\n\u001b[0;32m      1\u001b[0m \u001b[1;31m# Make state pops data request and save to a dataframe\u001b[0m\u001b[1;33m\u001b[0m\u001b[1;33m\u001b[0m\u001b[1;33m\u001b[0m\u001b[0m\n\u001b[0;32m      2\u001b[0m \u001b[0mpops_response\u001b[0m \u001b[1;33m=\u001b[0m \u001b[0mrequests\u001b[0m\u001b[1;33m.\u001b[0m\u001b[0mget\u001b[0m\u001b[1;33m(\u001b[0m\u001b[0mcensus_query_url\u001b[0m\u001b[1;33m)\u001b[0m\u001b[1;33m\u001b[0m\u001b[1;33m\u001b[0m\u001b[0m\n\u001b[1;32m----> 3\u001b[1;33m \u001b[0mpops_json\u001b[0m \u001b[1;33m=\u001b[0m \u001b[0mpops_response\u001b[0m\u001b[1;33m.\u001b[0m\u001b[0mjson\u001b[0m\u001b[1;33m(\u001b[0m\u001b[1;33m)\u001b[0m\u001b[1;33m\u001b[0m\u001b[1;33m\u001b[0m\u001b[0m\n\u001b[0m\u001b[0;32m      4\u001b[0m \u001b[0mrow_counter\u001b[0m \u001b[1;33m=\u001b[0m \u001b[0mlen\u001b[0m\u001b[1;33m(\u001b[0m\u001b[0mpops_json\u001b[0m\u001b[1;33m)\u001b[0m\u001b[1;33m\u001b[0m\u001b[1;33m\u001b[0m\u001b[0m\n\u001b[0;32m      5\u001b[0m \u001b[0mpops_data\u001b[0m \u001b[1;33m=\u001b[0m \u001b[1;33m[\u001b[0m\u001b[1;33m]\u001b[0m\u001b[1;33m\u001b[0m\u001b[1;33m\u001b[0m\u001b[0m\n",
      "\u001b[1;32m~\\anaconda3\\lib\\site-packages\\requests\\models.py\u001b[0m in \u001b[0;36mjson\u001b[1;34m(self, **kwargs)\u001b[0m\n\u001b[0;32m    898\u001b[0m                     \u001b[1;31m# used.\u001b[0m\u001b[1;33m\u001b[0m\u001b[1;33m\u001b[0m\u001b[1;33m\u001b[0m\u001b[0m\n\u001b[0;32m    899\u001b[0m                     \u001b[1;32mpass\u001b[0m\u001b[1;33m\u001b[0m\u001b[1;33m\u001b[0m\u001b[0m\n\u001b[1;32m--> 900\u001b[1;33m         \u001b[1;32mreturn\u001b[0m \u001b[0mcomplexjson\u001b[0m\u001b[1;33m.\u001b[0m\u001b[0mloads\u001b[0m\u001b[1;33m(\u001b[0m\u001b[0mself\u001b[0m\u001b[1;33m.\u001b[0m\u001b[0mtext\u001b[0m\u001b[1;33m,\u001b[0m \u001b[1;33m**\u001b[0m\u001b[0mkwargs\u001b[0m\u001b[1;33m)\u001b[0m\u001b[1;33m\u001b[0m\u001b[1;33m\u001b[0m\u001b[0m\n\u001b[0m\u001b[0;32m    901\u001b[0m \u001b[1;33m\u001b[0m\u001b[0m\n\u001b[0;32m    902\u001b[0m     \u001b[1;33m@\u001b[0m\u001b[0mproperty\u001b[0m\u001b[1;33m\u001b[0m\u001b[1;33m\u001b[0m\u001b[0m\n",
      "\u001b[1;32m~\\anaconda3\\lib\\json\\__init__.py\u001b[0m in \u001b[0;36mloads\u001b[1;34m(s, cls, object_hook, parse_float, parse_int, parse_constant, object_pairs_hook, **kw)\u001b[0m\n\u001b[0;32m    355\u001b[0m             \u001b[0mparse_int\u001b[0m \u001b[1;32mis\u001b[0m \u001b[1;32mNone\u001b[0m \u001b[1;32mand\u001b[0m \u001b[0mparse_float\u001b[0m \u001b[1;32mis\u001b[0m \u001b[1;32mNone\u001b[0m \u001b[1;32mand\u001b[0m\u001b[1;33m\u001b[0m\u001b[1;33m\u001b[0m\u001b[0m\n\u001b[0;32m    356\u001b[0m             parse_constant is None and object_pairs_hook is None and not kw):\n\u001b[1;32m--> 357\u001b[1;33m         \u001b[1;32mreturn\u001b[0m \u001b[0m_default_decoder\u001b[0m\u001b[1;33m.\u001b[0m\u001b[0mdecode\u001b[0m\u001b[1;33m(\u001b[0m\u001b[0ms\u001b[0m\u001b[1;33m)\u001b[0m\u001b[1;33m\u001b[0m\u001b[1;33m\u001b[0m\u001b[0m\n\u001b[0m\u001b[0;32m    358\u001b[0m     \u001b[1;32mif\u001b[0m \u001b[0mcls\u001b[0m \u001b[1;32mis\u001b[0m \u001b[1;32mNone\u001b[0m\u001b[1;33m:\u001b[0m\u001b[1;33m\u001b[0m\u001b[1;33m\u001b[0m\u001b[0m\n\u001b[0;32m    359\u001b[0m         \u001b[0mcls\u001b[0m \u001b[1;33m=\u001b[0m \u001b[0mJSONDecoder\u001b[0m\u001b[1;33m\u001b[0m\u001b[1;33m\u001b[0m\u001b[0m\n",
      "\u001b[1;32m~\\anaconda3\\lib\\json\\decoder.py\u001b[0m in \u001b[0;36mdecode\u001b[1;34m(self, s, _w)\u001b[0m\n\u001b[0;32m    335\u001b[0m \u001b[1;33m\u001b[0m\u001b[0m\n\u001b[0;32m    336\u001b[0m         \"\"\"\n\u001b[1;32m--> 337\u001b[1;33m         \u001b[0mobj\u001b[0m\u001b[1;33m,\u001b[0m \u001b[0mend\u001b[0m \u001b[1;33m=\u001b[0m \u001b[0mself\u001b[0m\u001b[1;33m.\u001b[0m\u001b[0mraw_decode\u001b[0m\u001b[1;33m(\u001b[0m\u001b[0ms\u001b[0m\u001b[1;33m,\u001b[0m \u001b[0midx\u001b[0m\u001b[1;33m=\u001b[0m\u001b[0m_w\u001b[0m\u001b[1;33m(\u001b[0m\u001b[0ms\u001b[0m\u001b[1;33m,\u001b[0m \u001b[1;36m0\u001b[0m\u001b[1;33m)\u001b[0m\u001b[1;33m.\u001b[0m\u001b[0mend\u001b[0m\u001b[1;33m(\u001b[0m\u001b[1;33m)\u001b[0m\u001b[1;33m)\u001b[0m\u001b[1;33m\u001b[0m\u001b[1;33m\u001b[0m\u001b[0m\n\u001b[0m\u001b[0;32m    338\u001b[0m         \u001b[0mend\u001b[0m \u001b[1;33m=\u001b[0m \u001b[0m_w\u001b[0m\u001b[1;33m(\u001b[0m\u001b[0ms\u001b[0m\u001b[1;33m,\u001b[0m \u001b[0mend\u001b[0m\u001b[1;33m)\u001b[0m\u001b[1;33m.\u001b[0m\u001b[0mend\u001b[0m\u001b[1;33m(\u001b[0m\u001b[1;33m)\u001b[0m\u001b[1;33m\u001b[0m\u001b[1;33m\u001b[0m\u001b[0m\n\u001b[0;32m    339\u001b[0m         \u001b[1;32mif\u001b[0m \u001b[0mend\u001b[0m \u001b[1;33m!=\u001b[0m \u001b[0mlen\u001b[0m\u001b[1;33m(\u001b[0m\u001b[0ms\u001b[0m\u001b[1;33m)\u001b[0m\u001b[1;33m:\u001b[0m\u001b[1;33m\u001b[0m\u001b[1;33m\u001b[0m\u001b[0m\n",
      "\u001b[1;32m~\\anaconda3\\lib\\json\\decoder.py\u001b[0m in \u001b[0;36mraw_decode\u001b[1;34m(self, s, idx)\u001b[0m\n\u001b[0;32m    353\u001b[0m             \u001b[0mobj\u001b[0m\u001b[1;33m,\u001b[0m \u001b[0mend\u001b[0m \u001b[1;33m=\u001b[0m \u001b[0mself\u001b[0m\u001b[1;33m.\u001b[0m\u001b[0mscan_once\u001b[0m\u001b[1;33m(\u001b[0m\u001b[0ms\u001b[0m\u001b[1;33m,\u001b[0m \u001b[0midx\u001b[0m\u001b[1;33m)\u001b[0m\u001b[1;33m\u001b[0m\u001b[1;33m\u001b[0m\u001b[0m\n\u001b[0;32m    354\u001b[0m         \u001b[1;32mexcept\u001b[0m \u001b[0mStopIteration\u001b[0m \u001b[1;32mas\u001b[0m \u001b[0merr\u001b[0m\u001b[1;33m:\u001b[0m\u001b[1;33m\u001b[0m\u001b[1;33m\u001b[0m\u001b[0m\n\u001b[1;32m--> 355\u001b[1;33m             \u001b[1;32mraise\u001b[0m \u001b[0mJSONDecodeError\u001b[0m\u001b[1;33m(\u001b[0m\u001b[1;34m\"Expecting value\"\u001b[0m\u001b[1;33m,\u001b[0m \u001b[0ms\u001b[0m\u001b[1;33m,\u001b[0m \u001b[0merr\u001b[0m\u001b[1;33m.\u001b[0m\u001b[0mvalue\u001b[0m\u001b[1;33m)\u001b[0m \u001b[1;32mfrom\u001b[0m \u001b[1;32mNone\u001b[0m\u001b[1;33m\u001b[0m\u001b[1;33m\u001b[0m\u001b[0m\n\u001b[0m\u001b[0;32m    356\u001b[0m         \u001b[1;32mreturn\u001b[0m \u001b[0mobj\u001b[0m\u001b[1;33m,\u001b[0m \u001b[0mend\u001b[0m\u001b[1;33m\u001b[0m\u001b[1;33m\u001b[0m\u001b[0m\n",
      "\u001b[1;31mJSONDecodeError\u001b[0m: Expecting value: line 2 column 1 (char 1)"
     ]
    }
   ],
   "source": [
    "# Make state pops data request and save to a dataframe\n",
    "pops_response = requests.get(census_query_url)\n",
    "pops_json = pops_response.json()\n",
    "row_counter = len(pops_json)\n",
    "pops_data = []\n",
    "for row in range(1, row_counter):\n",
    "    pops_data.append(pops_json[row])\n",
    "pops_data_df = pd.DataFrame(pops_data, columns = pops_json[0])"
   ]
  },
  {
   "cell_type": "code",
   "execution_count": null,
   "id": "8f42b731",
   "metadata": {},
   "outputs": [],
   "source": [
    "pops_data_df.head()"
   ]
  },
  {
   "cell_type": "code",
   "execution_count": 12,
   "id": "d8a24bf0",
   "metadata": {},
   "outputs": [
    {
     "data": {
      "text/plain": [
       "'https://api.census.gov/data/invalid_key.html'"
      ]
     },
     "execution_count": 12,
     "metadata": {},
     "output_type": "execute_result"
    }
   ],
   "source": [
    "pops_response.url"
   ]
  },
  {
   "cell_type": "code",
   "execution_count": null,
   "id": "c8e6644c",
   "metadata": {},
   "outputs": [],
   "source": [
    "# Create new dataframe with only the needed data columns\n",
    "reduced_pops_data_df = pops_data_df[[\"NAME\", \"POP_2021\"]]"
   ]
  },
  {
   "cell_type": "code",
   "execution_count": null,
   "id": "fb476f7f",
   "metadata": {},
   "outputs": [],
   "source": [
    "reduced_pops_data_df.head()"
   ]
  },
  {
   "cell_type": "code",
   "execution_count": null,
   "id": "77a60199",
   "metadata": {},
   "outputs": [],
   "source": [
    "# Create dataframe that contains state name and ID\n",
    "state_id = [\"AL\", \"AK\", \"AZ\", \"AR\", \"CA\", \"CO\", \"CT\", \"DC\", \"DE\", \"FL\", \"GA\", \"HI\", \"ID\", \"IL\", \"IN\", \"IA\", \"KS\", \"KY\",\n",
    "            \"LA\", \"ME\", \"MD\", \"MA\", \"MI\", \"MN\", \"MS\", \"MO\", \"MT\", \"NE\", \"NV\", \"NH\", \"NJ\", \"NM\", \"NY\", \"NC\", \"ND\", \"OH\",\n",
    "            \"OK\", \"OR\", \"PA\", \"PR\", \"RI\", \"SC\", \"SD\", \"TN\", \"TX\", \"UT\", \"VT\", \"VA\", \"WA\", \"WV\", \"WI\", \"WY\"]\n",
    "state_list = [\"Alabama\", \"Alaska\", \"Arizona\", \"Arkansas\", \"California\", \"Colorado\", \"Connecticut\", \"Delaware\", \n",
    "              \"District of Columbia\", \"Florida\", \"Georgia\", \"Hawaii\", \"Idaho\", \"Illinois\", \"Indiana\", \"Iowa\", \"Kansas\",\n",
    "              \"Kentucky\", \"Louisiana\", \"Maine\", \"Maryland\", \"Massachusetts\", \"Michigan\", \"Minnesota\", \"Mississippi\",\n",
    "              \"Missouri\", \"Montana\", \"Nebraska\", \"Nevada\", \"New Hampshire\", \"New Jersey\", \"New Mexico\", \"New York\", \n",
    "              \"North Carolina\", \"North Dakota\", \"Ohio\", \"Oklahoma\", \"Oregon\", \"Pennsylvania\", \"Puerto Rico\", \"Rhode Island\", \n",
    "              \"South Carolina\", \"South Dakota\", \"Tennessee\", \"Texas\", \"Utah\", \"Vermont\", \"Virginia\", \"Washington\", \n",
    "              \"West Virginia\", \"Wisconsin\", \"Wyoming\"]\n",
    "state_id_df = pd.DataFrame({\"NAME\" : state_list,\n",
    "                            \"State\" : state_id})"
   ]
  },
  {
   "cell_type": "code",
   "execution_count": null,
   "id": "7f45b1b9",
   "metadata": {},
   "outputs": [],
   "source": [
    "state_id_df.head()"
   ]
  },
  {
   "cell_type": "code",
   "execution_count": null,
   "id": "d046199a",
   "metadata": {},
   "outputs": [],
   "source": [
    "# Combine the data into a single dataset\n",
    "state_pops_data_df = pd.merge(state_id_df, reduced_pops_data_df, on = \"NAME\", how = \"left\", sort = False)"
   ]
  },
  {
   "cell_type": "code",
   "execution_count": null,
   "id": "5ba7fa7d",
   "metadata": {},
   "outputs": [],
   "source": [
    "state_pops_data_df"
   ]
  },
  {
   "cell_type": "code",
   "execution_count": null,
   "id": "5ce14eb3",
   "metadata": {},
   "outputs": [],
   "source": [
    "# Create Covid dataframe\n",
    "\n",
    "# Specify the Covid URL\n",
    "covid_url = \"https://api.covidactnow.org/v2/states.timeseries.csv?apiKey=\"\n",
    "# Build CovidActNow query URL\n",
    "covid_query_url = f\"{covid_url}{api_key}\""
   ]
  },
  {
   "cell_type": "code",
   "execution_count": null,
   "id": "1b00404b",
   "metadata": {},
   "outputs": [],
   "source": [
    "covid_query_url"
   ]
  },
  {
   "cell_type": "code",
   "execution_count": null,
   "id": "25d8afae",
   "metadata": {},
   "outputs": [],
   "source": [
    "# Make Covid data request and save to a CSV file\n",
    "covid_url_response = requests.get(covid_query_url)\n",
    "covid_url_content = covid_url_response.content\n",
    "csv_file = open('covid_data.csv', 'wb')\n",
    "csv_file.write(covid_url_content)\n",
    "csv_file.close()"
   ]
  },
  {
   "cell_type": "code",
   "execution_count": null,
   "id": "e6a4c4b7",
   "metadata": {},
   "outputs": [],
   "source": [
    "# Path to the Covid data file\n",
    "covid_data_path = \"covid_data.csv\"\n",
    "# Read the CSV file and create a dataframe\n",
    "covid_data_df = pd.read_csv(covid_data_path)"
   ]
  },
  {
   "cell_type": "code",
   "execution_count": null,
   "id": "d7306e5e",
   "metadata": {},
   "outputs": [],
   "source": [
    "covid_data_df"
   ]
  },
  {
   "cell_type": "code",
   "execution_count": null,
   "id": "8470c4e4",
   "metadata": {},
   "outputs": [],
   "source": [
    "# Create new dataframe with only the needed data columns\n",
    "clean_covid_df = covid_data_df[[\"date\" , \n",
    "                                \"state\", \n",
    "                                \"actuals.cases\", \n",
    "                                \"actuals.newCases\", \n",
    "                                \"actuals.deaths\", \n",
    "                                \"actuals.newDeaths\", \n",
    "                                \"actuals.positiveTests\", \n",
    "                                \"actuals.negativeTests\",  \n",
    "                                \"actuals.hospitalBeds.capacity\", \n",
    "                                \"actuals.hospitalBeds.currentUsageCovid\",\n",
    "                                \"actuals.icuBeds.capacity\", \n",
    "                                \"actuals.icuBeds.currentUsageCovid\",\n",
    "                                \"actuals.vaccinesDistributed\", \n",
    "                                \"actuals.vaccinesAdministered\",\n",
    "                                \"actuals.vaccinationsInitiated\", \n",
    "                                \"actuals.vaccinationsCompleted\",  \n",
    "                                \"actuals.vaccinationsAdditionalDose\"]]"
   ]
  },
  {
   "cell_type": "code",
   "execution_count": null,
   "id": "28061c2f",
   "metadata": {},
   "outputs": [],
   "source": [
    "clean_covid_df"
   ]
  },
  {
   "cell_type": "code",
   "execution_count": null,
   "id": "7e5426cf",
   "metadata": {},
   "outputs": [],
   "source": [
    "# Rename columns for easier viewing\n",
    "clean_covid_df = clean_covid_df.rename(columns={\"date\" : \"Date\", \n",
    "                                                \"state\" : \"State\", \n",
    "                                                \"actuals.cases\" : \"Total_Cases\",\n",
    "                                                \"actuals.newCases\" : \"New_Cases\", \n",
    "                                                \"actuals.deaths\" : \"Total_Deaths\",\n",
    "                                                \"actuals.newDeaths\" : \"New_Deaths\", \n",
    "                                                \"actuals.positiveTests\" : \"Total_Positives\",\n",
    "                                                \"actuals.negativeTests\" : \"Total_Negatives\", \n",
    "                                                \"actuals.hospitalBeds.capacity\": \"Total_Bed\",\n",
    "                                                \"actuals.hospitalBeds.currentUsageCovid\" : \"Current_Bed\",\n",
    "                                                \"actuals.icuBeds.capacity\" : \"Total_ICU\", \n",
    "                                                \"actuals.icuBeds.currentUsageCovid\" : \"Current_ICU\",\n",
    "                                                \"actuals.vaccinesDistributed\" : \"Vaccine_Dist\", \n",
    "                                                \"actuals.vaccinesAdministered\" : \"Vaccine_Admin\",\n",
    "                                                \"actuals.vaccinationsInitiated\" : \"Vaccine_Int\", \n",
    "                                                \"actuals.vaccinationsCompleted\" : \"Vaccine_Complete\",\n",
    "                                                \"actuals.vaccinationsAdditionalDose\" : \"Add_Dose\"})"
   ]
  },
  {
   "cell_type": "code",
   "execution_count": null,
   "id": "cab63c32",
   "metadata": {},
   "outputs": [],
   "source": [
    "clean_covid_df"
   ]
  },
  {
   "cell_type": "code",
   "execution_count": null,
   "id": "314a610f",
   "metadata": {},
   "outputs": [],
   "source": [
    "# Filter for the data from 12/31/20 to most recent data\n",
    "clean_covid_df = clean_covid_df.loc[(clean_covid_df[\"Date\"] > \"2020-12-30\") &\n",
    "                                    (clean_covid_df[\"Date\"] < \"2022-01-01\"), :]"
   ]
  },
  {
   "cell_type": "code",
   "execution_count": null,
   "id": "bb804153",
   "metadata": {},
   "outputs": [],
   "source": [
    "clean_covid_df"
   ]
  },
  {
   "cell_type": "code",
   "execution_count": null,
   "id": "b8c559e1",
   "metadata": {},
   "outputs": [],
   "source": [
    "# Create \"Year\", \"Month\" and \"Day\" columns based on the \"Date\" column\n",
    "clean_covid_df[\"Year\"] = pd.DatetimeIndex(clean_covid_df[\"Date\"]).year\n",
    "clean_covid_df[\"Month\"] = pd.DatetimeIndex(clean_covid_df[\"Date\"]).month\n",
    "clean_covid_df[\"Day\"] = pd.DatetimeIndex(clean_covid_df[\"Date\"]).day"
   ]
  },
  {
   "cell_type": "code",
   "execution_count": null,
   "id": "10fd491f",
   "metadata": {},
   "outputs": [],
   "source": [
    "# Move \"Year\", \"Month\" and \"Day\" columns to the front of the dataframe\n",
    "year_column = clean_covid_df.pop(\"Year\")\n",
    "month_column = clean_covid_df.pop(\"Month\")\n",
    "day_column = clean_covid_df.pop(\"Day\")\n",
    "clean_covid_df.insert(0, \"Year\", year_column)\n",
    "clean_covid_df.insert(1, \"Month\", month_column)\n",
    "clean_covid_df.insert(2, \"Day\", day_column)"
   ]
  },
  {
   "cell_type": "code",
   "execution_count": null,
   "id": "e5a8fa1a",
   "metadata": {},
   "outputs": [],
   "source": [
    "#Replace NaN values with space\n",
    "clean_covid_df = clean_covid_df.fillna(0)"
   ]
  },
  {
   "cell_type": "code",
   "execution_count": null,
   "id": "20cd89d9",
   "metadata": {},
   "outputs": [],
   "source": [
    "clean_covid_df"
   ]
  },
  {
   "cell_type": "code",
   "execution_count": null,
   "id": "703f50d6",
   "metadata": {},
   "outputs": [],
   "source": [
    "monthly_data1_df = clean_covid_df[[\"State\",\n",
    "                                   \"Year\", \n",
    "                                   \"Month\", \n",
    "                                   \"Day\", \n",
    "                                   \"Total_Cases\", \n",
    "                                   \"Total_Deaths\", \n",
    "                                   \"Total_Positives\",\n",
    "                                   \"Total_Negatives\", \n",
    "                                   \"Vaccine_Dist\",\n",
    "                                   \"Vaccine_Admin\", \n",
    "                                   \"Vaccine_Int\",\n",
    "                                   \"Vaccine_Complete\", \n",
    "                                   \"Add_Dose\"]]"
   ]
  },
  {
   "cell_type": "code",
   "execution_count": null,
   "id": "3f330b55",
   "metadata": {},
   "outputs": [],
   "source": [
    "monthly_data1_df"
   ]
  },
  {
   "cell_type": "code",
   "execution_count": null,
   "id": "79aba85d",
   "metadata": {},
   "outputs": [],
   "source": [
    "# Sort the data using \"State\"(ascending), \"Year\"(ascending), \"Month\"(ascending)  and \"Day\" (descending) columns \n",
    "sorted_monthly_data1_df = monthly_data1_df.sort_values(by = [\"State\", \"Year\", \"Month\", \"Day\"], \n",
    "                                                         ascending = [True, True, True, False])\n"
   ]
  },
  {
   "cell_type": "code",
   "execution_count": null,
   "id": "e3fb67b7",
   "metadata": {},
   "outputs": [],
   "source": [
    "sorted_monthly_data1_df"
   ]
  },
  {
   "cell_type": "code",
   "execution_count": null,
   "id": "3883aea0",
   "metadata": {},
   "outputs": [],
   "source": [
    "# Keep only the data for the last day of each month, remove all other days\n",
    "final_monthly_data1_df = sorted_monthly_data1_df.drop_duplicates(subset = [\"State\", \"Year\", \"Month\"],\n",
    "                                                                  keep = \"first\").reset_index(drop = True)"
   ]
  },
  {
   "cell_type": "code",
   "execution_count": null,
   "id": "2f600509",
   "metadata": {},
   "outputs": [],
   "source": [
    "final_monthly_data1_df"
   ]
  },
  {
   "cell_type": "code",
   "execution_count": null,
   "id": "e28155e1",
   "metadata": {},
   "outputs": [],
   "source": [
    "final_monthly_data1_df[[\"Monthly Cases\", \"Monthly Deaths\", \"Monthly Positive\", \"Monthly Negatives\", \n",
    "                       \"Monthly Vaccine Completed\"]]=\"\""
   ]
  },
  {
   "cell_type": "code",
   "execution_count": null,
   "id": "a1c070d8",
   "metadata": {},
   "outputs": [],
   "source": [
    "final_monthly_data1_df"
   ]
  },
  {
   "cell_type": "code",
   "execution_count": null,
   "id": "0bfa1624",
   "metadata": {},
   "outputs": [],
   "source": [
    "row_counter = len(final_monthly_data1_df)\n",
    "row_counter"
   ]
  },
  {
   "cell_type": "code",
   "execution_count": null,
   "id": "c68d1694",
   "metadata": {},
   "outputs": [],
   "source": [
    "for x in range(1, row_counter):\n",
    "    final_monthly_data1_df.iloc[x, 13] = final_monthly_data1_df.iloc[x, 4] - final_monthly_data1_df.iloc[x-1, 4]\n",
    "    final_monthly_data1_df.iloc[x, 14] = final_monthly_data1_df.iloc[x, 5] - final_monthly_data1_df.iloc[x-1, 5]\n",
    "    final_monthly_data1_df.iloc[x, 15] = final_monthly_data1_df.iloc[x, 6] - final_monthly_data1_df.iloc[x-1, 6]\n",
    "    final_monthly_data1_df.iloc[x, 16] = final_monthly_data1_df.iloc[x, 7] - final_monthly_data1_df.iloc[x-1, 7]\n",
    "    final_monthly_data1_df.iloc[x, 17] = final_monthly_data1_df.iloc[x, 11] - final_monthly_data1_df.iloc[x-1, 11]"
   ]
  },
  {
   "cell_type": "code",
   "execution_count": null,
   "id": "5a51512e",
   "metadata": {},
   "outputs": [],
   "source": [
    " final_monthly_data1_df"
   ]
  },
  {
   "cell_type": "code",
   "execution_count": null,
   "id": "0c7a175f",
   "metadata": {},
   "outputs": [],
   "source": [
    "sorted_monthly_data1_df.to_csv(\"Final_COVID_Data.csv\")"
   ]
  },
  {
   "cell_type": "code",
   "execution_count": null,
   "id": "d3794104",
   "metadata": {},
   "outputs": [],
   "source": []
  },
  {
   "cell_type": "code",
   "execution_count": null,
   "id": "f659f8b7",
   "metadata": {},
   "outputs": [],
   "source": []
  }
 ],
 "metadata": {
  "kernelspec": {
   "display_name": "Python 3",
   "language": "python",
   "name": "python3"
  },
  "language_info": {
   "codemirror_mode": {
    "name": "ipython",
    "version": 3
   },
   "file_extension": ".py",
   "mimetype": "text/x-python",
   "name": "python",
   "nbconvert_exporter": "python",
   "pygments_lexer": "ipython3",
   "version": "3.8.8"
  }
 },
 "nbformat": 4,
 "nbformat_minor": 5
}
