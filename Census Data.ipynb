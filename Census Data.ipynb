{
 "cells": [
  {
   "cell_type": "code",
   "execution_count": 1,
   "id": "76ba942b",
   "metadata": {},
   "outputs": [],
   "source": [
    "#Dependencies\n",
    "import requests\n",
    "import json\n",
    "import pandas as pd\n",
    "import numpy as np\n",
    "import matplotlib.pyplot \n",
    "from config import census_key\n"
   ]
  },
  {
   "cell_type": "code",
   "execution_count": 3,
   "id": "21adb788",
   "metadata": {},
   "outputs": [
    {
     "data": {
      "text/plain": [
       "<Response [200]>"
      ]
     },
     "execution_count": 3,
     "metadata": {},
     "output_type": "execute_result"
    }
   ],
   "source": [
    "# Save config information.\n",
    "url = \"https://api.census.gov/data/2021/pep/population?\"\n",
    "\n",
    "# Build query URL and request your results in Celsius\n",
    "query_url = f\"{url}get=DENSITY_2021,POP_2021,NAME,STATE&for=state:*&key={census_key}\"\n",
    "query_url\n",
    "\n",
    "# Get pops data\n",
    "pops_response = requests.get(query_url)\n",
    "pops_response\n"
   ]
  },
  {
   "cell_type": "code",
   "execution_count": null,
   "id": "d6514a0b",
   "metadata": {},
   "outputs": [],
   "source": []
  },
  {
   "cell_type": "code",
   "execution_count": null,
   "id": "0b10ff9b",
   "metadata": {},
   "outputs": [],
   "source": []
  }
 ],
 "metadata": {
  "kernelspec": {
   "display_name": "Python 3",
   "language": "python",
   "name": "python3"
  },
  "language_info": {
   "codemirror_mode": {
    "name": "ipython",
    "version": 3
   },
   "file_extension": ".py",
   "mimetype": "text/x-python",
   "name": "python",
   "nbconvert_exporter": "python",
   "pygments_lexer": "ipython3",
   "version": "3.8.8"
  }
 },
 "nbformat": 4,
 "nbformat_minor": 5
}
